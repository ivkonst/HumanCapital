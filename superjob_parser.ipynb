{
 "cells": [
  {
   "cell_type": "markdown",
   "metadata": {
    "ExecuteTime": {
     "end_time": "2018-05-22T12:49:16.719479Z",
     "start_time": "2018-05-22T12:49:16.714161Z"
    }
   },
   "source": [
    "# Спарсим SuperJob.ru"
   ]
  },
  {
   "cell_type": "code",
   "execution_count": 2,
   "metadata": {
    "ExecuteTime": {
     "end_time": "2018-05-19T23:04:03.631372Z",
     "start_time": "2018-05-19T23:04:03.626064Z"
    },
    "collapsed": true
   },
   "outputs": [],
   "source": [
    "from multiprocessing import Pool"
   ]
  },
  {
   "cell_type": "code",
   "execution_count": 3,
   "metadata": {
    "ExecuteTime": {
     "end_time": "2018-05-19T23:04:05.376929Z",
     "start_time": "2018-05-19T23:04:04.468344Z"
    },
    "collapsed": true
   },
   "outputs": [],
   "source": [
    "import requests\n",
    "import re\n",
    "from bs4 import BeautifulSoup\n",
    "import pandas as pd\n",
    "import time\n",
    "import math\n",
    "import csv\n",
    "import numpy as np"
   ]
  },
  {
   "cell_type": "markdown",
   "metadata": {},
   "source": [
    "## Первая страница для поиска(с кандидатами, удовлетворяющими некоторым требованиям, например аналитики)."
   ]
  },
  {
   "cell_type": "code",
   "execution_count": 7,
   "metadata": {
    "ExecuteTime": {
     "end_time": "2018-05-19T23:07:45.517997Z",
     "start_time": "2018-05-19T23:07:45.513315Z"
    },
    "collapsed": true
   },
   "outputs": [],
   "source": [
    "page_url = 'https://www.superjob.ru/resume/search_resume.html?t%5B0%5D=4&keywords%5B0%5D%5Bkeys%5D=%D0%90%D0%BD%D0%B0%D0%BB%D0%B8%D1%82%D0%B8%D0%BA&keywords%5B0%5D%5Bskwc%5D=and&keywords%5B0%5D%5Bsrws%5D=7&page=1'"
   ]
  },
  {
   "cell_type": "markdown",
   "metadata": {},
   "source": [
    "функция для сбора всех ссылок на резюме людей с данной страницы"
   ]
  },
  {
   "cell_type": "code",
   "execution_count": 8,
   "metadata": {
    "ExecuteTime": {
     "end_time": "2018-05-19T23:07:47.768260Z",
     "start_time": "2018-05-19T23:07:47.756730Z"
    },
    "collapsed": true
   },
   "outputs": [],
   "source": [
    "def get_urls_on_page(page_url):\n",
    "    url = requests.get(page_url).content\n",
    "#     a = [BeautifulSoup(url, 'lxml').findAll('a', attrs={'target':'_self'})[i].attrs['href'] for i in range(5,93,3)]\n",
    "#     return a\n",
    "    l = [i.attrs['href'] for i in BeautifulSoup(url, 'lxml').findAll('a', attrs={'target':'_self'})]\n",
    "    li = [l[i] for i in range(5,93,3)]\n",
    "    return li"
   ]
  },
  {
   "cell_type": "code",
   "execution_count": 11,
   "metadata": {
    "ExecuteTime": {
     "end_time": "2018-05-19T23:08:12.201113Z",
     "start_time": "2018-05-19T23:08:12.193689Z"
    },
    "collapsed": true
   },
   "outputs": [],
   "source": [
    "# l = [i.attrs['href'] for i in BeautifulSoup(url, 'lxml').findAll('a', attrs={'target':'_self'})]\n",
    "# li = [l[i] for i in range(5,93,3)]\n",
    "# def maker(l):\n",
    "#     page_url = 'https://www.superjob.ru/resume/search_resume.html?t%5B0%5D=4&keywords%5B0%5D%5Bkeys%5D=%D0%90%D0%BD%D0%B0%D0%BB%D0%B8%D1%82%D0%B8%D0%BA&keywords%5B0%5D%5Bskwc%5D=and&keywords%5B0%5D%5Bsrws%5D=7&page={}'.format(l)\n",
    "#     list_of_urls = np.hstack((list_of_urls,get_urls_on_page(page_url)))"
   ]
  },
  {
   "cell_type": "markdown",
   "metadata": {},
   "source": [
    "мой ноут не захотел открывать много процессов(это можно, конечно, подправить... а можно и подождать пока один процесс справится)"
   ]
  },
  {
   "cell_type": "code",
   "execution_count": 13,
   "metadata": {
    "ExecuteTime": {
     "end_time": "2018-05-19T23:17:38.028829Z",
     "start_time": "2018-05-19T23:08:59.091309Z"
    },
    "collapsed": true
   },
   "outputs": [],
   "source": [
    "list_of_urls = []\n",
    "# with Pool(40) as p1:\n",
    "#     p1.map(maker, range(1,401))\n",
    "for j in range(1,401):\n",
    "    page_url = 'https://www.superjob.ru/resume/search_resume.html?t%5B0%5D=4&keywords%5B0%5D%5Bkeys%5D=%D0%90%D0%BD%D0%B0%D0%BB%D0%B8%D1%82%D0%B8%D0%BA&keywords%5B0%5D%5Bskwc%5D=and&keywords%5B0%5D%5Bsrws%5D=7&page={}'.format(j)\n",
    "    list_of_urls = np.hstack((list_of_urls,get_urls_on_page(page_url)))"
   ]
  },
  {
   "cell_type": "code",
   "execution_count": 15,
   "metadata": {
    "ExecuteTime": {
     "end_time": "2018-05-19T23:18:13.203528Z",
     "start_time": "2018-05-19T23:18:13.197679Z"
    }
   },
   "outputs": [
    {
     "data": {
      "text/plain": [
       "12000"
      ]
     },
     "execution_count": 15,
     "metadata": {},
     "output_type": "execute_result"
    }
   ],
   "source": [
    "len(list_of_urls)"
   ]
  },
  {
   "cell_type": "markdown",
   "metadata": {},
   "source": [
    "### функции для сбора фичей из резюме"
   ]
  },
  {
   "cell_type": "code",
   "execution_count": 25,
   "metadata": {
    "ExecuteTime": {
     "end_time": "2018-05-19T23:37:29.403343Z",
     "start_time": "2018-05-19T23:37:28.983276Z"
    },
    "collapsed": true
   },
   "outputs": [],
   "source": [
    "def get_new_pos(url):\n",
    "    try:\n",
    "        new_pos = BeautifulSoup(url, 'lxml').find('h1', attrs={'class':'_1h3Zg _2LS-_ ADNB4 _1BoTZ'}).text\n",
    "    except:\n",
    "        new_pos = ''\n",
    "    return new_pos\n",
    "def get_salary(url):\n",
    "    try:\n",
    "        salary = int(BeautifulSoup(url, 'lxml').find('span', attrs={'class':'_1h3Zg ADNB4 _1BoTZ'}).\\\n",
    "                     text.split('\\xa0')[0])*1000\n",
    "    except:\n",
    "        salary = 0\n",
    "    return salary\n",
    "\n",
    "\n",
    "def get_pos_1(url):\n",
    "    try:\n",
    "        pos_1 = BeautifulSoup(url, 'lxml').findAll('h3', attrs={'class':'_1h3Zg ADNB4 _1BoTZ'})[0].text\n",
    "    except:\n",
    "        pos_1 = ''\n",
    "    return pos_1\n",
    "def get_len_pos_1(url):\n",
    "    try:\n",
    "        len_pos_1 = ' '.join(BeautifulSoup(url, 'lxml').findAll('div', \n",
    "                                attrs={'class':'_1h3Zg _1LKcB _1xK5K _21a7u'})[1].span.text.split('\\xa0'))\n",
    "    except:\n",
    "        len_pos_1 = ''\n",
    "    return len_pos_1\n",
    "\n",
    "\n",
    "def get_pos_2(url):\n",
    "    try: \n",
    "        pos_2 = BeautifulSoup(url, 'lxml').findAll('h3', attrs={'class':'_1h3Zg ADNB4 _1BoTZ'})[1].text\n",
    "    except:\n",
    "        pos_2 = ''\n",
    "    return pos_2\n",
    "def get_len_pos_2(url):\n",
    "    try:\n",
    "        len_pos_2 = ' '.join(BeautifulSoup(url, 'lxml').findAll('div', \n",
    "                                attrs={'class':'_1h3Zg _1LKcB _1xK5K _21a7u'})[3].span.text.split('\\xa0'))\n",
    "    except:\n",
    "        len_pos_2 = ''\n",
    "    return len_pos_2\n",
    "\n",
    "\n",
    "def get_pos_3(url):\n",
    "    try:\n",
    "        pos_3 = BeautifulSoup(url, 'lxml').findAll('h3', attrs={'class':'_1h3Zg ADNB4 _1BoTZ'})[2].text\n",
    "    except:\n",
    "        pos_3 = ''\n",
    "    return pos_3\n",
    "def get_len_pos_3(url):\n",
    "    try:\n",
    "        len_pos_3 = ' '.join(BeautifulSoup(url, 'lxml').findAll('div', \n",
    "                                attrs={'class':'_1h3Zg _1LKcB _1xK5K _21a7u'})[5].span.text.split('\\xa0'))\n",
    "    except:\n",
    "        len_pos_3 = ''\n",
    "    return len_pos_3\n",
    "\n",
    "\n",
    "def get_pos_4(url):\n",
    "    try:\n",
    "        pos_4 = BeautifulSoup(url, 'lxml').findAll('h3', attrs={'class':'_1h3Zg ADNB4 _1BoTZ'})[3].text\n",
    "    except:\n",
    "        pos_4 = ''\n",
    "    return pos_4\n",
    "def get_len_pos_4(url):\n",
    "    try:\n",
    "        len_pos_4 = ' '.join(BeautifulSoup(url, 'lxml').findAll('div', \n",
    "                                attrs={'class':'_1h3Zg _1LKcB _1xK5K _21a7u'})[7].span.text.split('\\xa0'))\n",
    "    except:\n",
    "        len_pos_4 = ''\n",
    "    return len_pos_4\n",
    "\n",
    "\n",
    "def get_pos_5(url):\n",
    "    try:\n",
    "        pos_5 = BeautifulSoup(url, 'lxml').findAll('h3', attrs={'class':'_1h3Zg ADNB4 _1BoTZ'})[4].text\n",
    "    except:\n",
    "        pos_5 = ''\n",
    "    return pos_5\n",
    "def get_len_pos_5(url):\n",
    "    try:\n",
    "        len_pos_5 = ' '.join(BeautifulSoup(url, 'lxml').findAll('div', \n",
    "                                attrs={'class':'_1h3Zg _1LKcB _1xK5K _21a7u'})[9].span.text.split('\\xa0'))\n",
    "    except:\n",
    "        len_pos_5 = ''\n",
    "    return len_pos_5\n",
    "\n",
    "def get_pos_6(url):\n",
    "    try:\n",
    "        pos_6 = BeautifulSoup(url, 'lxml').findAll('h3', attrs={'class':'_1h3Zg ADNB4 _1BoTZ'})[5].text\n",
    "    except:\n",
    "        pos_6 = ''\n",
    "    return pos_6\n",
    "def get_len_pos_6(url):\n",
    "    try:\n",
    "        len_pos_6 = ' '.join(BeautifulSoup(url, 'lxml').findAll('div', \n",
    "                                attrs={'class':'_1h3Zg _1LKcB _1xK5K _21a7u'})[11].span.text.split('\\xa0'))\n",
    "    except:\n",
    "        len_pos_6 = ''\n",
    "    return len_pos_6\n",
    "\n",
    "def get_refresh(url):\n",
    "    refr = BeautifulSoup(url, 'lxml').find('span', attrs={'class':'_1h3Zg _13LZu z15vz _1xK5K'}).text\n",
    "    return refr\n",
    "\n",
    "def make_all(url):\n",
    "    url = 'https://www.superjob.ru' + url\n",
    "    url = requests.get(url).content\n",
    "    write_csv(url)\n",
    "\n",
    "def write_csv(url):\n",
    "    with open('/Users/aleksandrkim/Desktop/superjob.csv', 'a') as f:\n",
    "        writer = csv.writer(f)\n",
    "        writer.writerow( ( get_new_pos(url), get_salary(url), \n",
    "                          get_pos_1(url), get_len_pos_1(url), get_pos_2(url), \n",
    "                          get_len_pos_2(url), get_pos_3(url), get_len_pos_3(url),\n",
    "                          get_pos_4(url), get_len_pos_4(url), get_pos_5(url), \n",
    "                          get_len_pos_5(url)) )#get_refresh(url),, get_pos_6(url), get_len_pos_6(url)\n",
    "#         print('row')"
   ]
  },
  {
   "cell_type": "markdown",
   "metadata": {
    "ExecuteTime": {
     "end_time": "2018-05-22T12:56:37.389361Z",
     "start_time": "2018-05-22T12:56:37.386143Z"
    }
   },
   "source": [
    "### создадим файл для записи с нужными полями"
   ]
  },
  {
   "cell_type": "code",
   "execution_count": 19,
   "metadata": {
    "ExecuteTime": {
     "end_time": "2018-05-19T23:22:08.000474Z",
     "start_time": "2018-05-19T23:22:07.992294Z"
    },
    "collapsed": true
   },
   "outputs": [],
   "source": [
    "superjob = pd.DataFrame(columns=['new_pos', 'salary', 'pos_1', 'len_pos_1', \n",
    "                                 'pos_2', 'len_pos_2', 'pos_3', 'len_pos_3', \n",
    "                                 'pos_4', 'len_pos_4', 'pos_5', 'len_pos_5'])#'refresh','pos_6', 'len_pos_6',\n",
    "superjob.to_csv('/Users/aleksandrkim/Desktop/superjob.csv')"
   ]
  },
  {
   "cell_type": "markdown",
   "metadata": {},
   "source": [
    "Кто хочет(и кто может) пробуйте мультипроцессинг - это быстро, но надо убирать ограничения на кол-во открытых файлов на вашей машине"
   ]
  },
  {
   "cell_type": "code",
   "execution_count": 26,
   "metadata": {
    "ExecuteTime": {
     "end_time": "2018-05-19T23:40:14.139926Z",
     "start_time": "2018-05-19T23:37:32.846704Z"
    }
   },
   "outputs": [
    {
     "ename": "ConnectionError",
     "evalue": "None: Max retries exceeded with url: //vk.com/superjob (Caused by None)",
     "output_type": "error",
     "traceback": [
      "\u001b[0;31m---------------------------------------------------------------------------\u001b[0m",
      "\u001b[0;31mRemoteTraceback\u001b[0m                           Traceback (most recent call last)",
      "\u001b[0;31mRemoteTraceback\u001b[0m: \n\"\"\"\nTraceback (most recent call last):\n  File \"/Users/aleksandrkim/anaconda3/lib/python3.5/site-packages/urllib3/connection.py\", line 141, in _new_conn\n    (self.host, self.port), self.timeout, **extra_kw)\n  File \"/Users/aleksandrkim/anaconda3/lib/python3.5/site-packages/urllib3/util/connection.py\", line 60, in create_connection\n    for res in socket.getaddrinfo(host, port, family, socket.SOCK_STREAM):\n  File \"/Users/aleksandrkim/anaconda3/lib/python3.5/socket.py\", line 733, in getaddrinfo\n    for res in _socket.getaddrinfo(host, port, family, type, proto, flags):\nsocket.gaierror: [Errno 8] nodename nor servname provided, or not known\n\nDuring handling of the above exception, another exception occurred:\n\nTraceback (most recent call last):\n  File \"/Users/aleksandrkim/anaconda3/lib/python3.5/site-packages/urllib3/connectionpool.py\", line 601, in urlopen\n    chunked=chunked)\n  File \"/Users/aleksandrkim/anaconda3/lib/python3.5/site-packages/urllib3/connectionpool.py\", line 346, in _make_request\n    self._validate_conn(conn)\n  File \"/Users/aleksandrkim/anaconda3/lib/python3.5/site-packages/urllib3/connectionpool.py\", line 850, in _validate_conn\n    conn.connect()\n  File \"/Users/aleksandrkim/anaconda3/lib/python3.5/site-packages/urllib3/connection.py\", line 284, in connect\n    conn = self._new_conn()\n  File \"/Users/aleksandrkim/anaconda3/lib/python3.5/site-packages/urllib3/connection.py\", line 150, in _new_conn\n    self, \"Failed to establish a new connection: %s\" % e)\nurllib3.exceptions.NewConnectionError: <urllib3.connection.VerifiedHTTPSConnection object at 0x10a61c630>: Failed to establish a new connection: [Errno 8] nodename nor servname provided, or not known\n\nDuring handling of the above exception, another exception occurred:\n\nTraceback (most recent call last):\n  File \"/Users/aleksandrkim/anaconda3/lib/python3.5/site-packages/requests/adapters.py\", line 440, in send\n    timeout=timeout\n  File \"/Users/aleksandrkim/anaconda3/lib/python3.5/site-packages/urllib3/connectionpool.py\", line 639, in urlopen\n    _stacktrace=sys.exc_info()[2])\n  File \"/Users/aleksandrkim/anaconda3/lib/python3.5/site-packages/urllib3/util/retry.py\", line 388, in increment\n    raise MaxRetryError(_pool, url, error or ResponseError(cause))\nurllib3.exceptions.MaxRetryError: HTTPSConnectionPool(host='www.superjob.ruhttps', port=443): Max retries exceeded with url: //vk.com/superjob (Caused by NewConnectionError('<urllib3.connection.VerifiedHTTPSConnection object at 0x10a61c630>: Failed to establish a new connection: [Errno 8] nodename nor servname provided, or not known',))\n\nDuring handling of the above exception, another exception occurred:\n\nTraceback (most recent call last):\n  File \"/Users/aleksandrkim/anaconda3/lib/python3.5/multiprocessing/pool.py\", line 119, in worker\n    result = (True, func(*args, **kwds))\n  File \"/Users/aleksandrkim/anaconda3/lib/python3.5/multiprocessing/pool.py\", line 44, in mapstar\n    return list(map(*args))\n  File \"<ipython-input-25-adbce0de6b4b>\", line 109, in make_all\n    url = requests.get(url).content\n  File \"/Users/aleksandrkim/anaconda3/lib/python3.5/site-packages/requests/api.py\", line 72, in get\n    return request('get', url, params=params, **kwargs)\n  File \"/Users/aleksandrkim/anaconda3/lib/python3.5/site-packages/requests/api.py\", line 58, in request\n    return session.request(method=method, url=url, **kwargs)\n  File \"/Users/aleksandrkim/anaconda3/lib/python3.5/site-packages/requests/sessions.py\", line 508, in request\n    resp = self.send(prep, **send_kwargs)\n  File \"/Users/aleksandrkim/anaconda3/lib/python3.5/site-packages/requests/sessions.py\", line 618, in send\n    r = adapter.send(request, **kwargs)\n  File \"/Users/aleksandrkim/anaconda3/lib/python3.5/site-packages/requests/adapters.py\", line 508, in send\n    raise ConnectionError(e, request=request)\nrequests.exceptions.ConnectionError: HTTPSConnectionPool(host='www.superjob.ruhttps', port=443): Max retries exceeded with url: //vk.com/superjob (Caused by NewConnectionError('<urllib3.connection.VerifiedHTTPSConnection object at 0x10a61c630>: Failed to establish a new connection: [Errno 8] nodename nor servname provided, or not known',))\n\"\"\"",
      "\nThe above exception was the direct cause of the following exception:\n",
      "\u001b[0;31mConnectionError\u001b[0m                           Traceback (most recent call last)",
      "\u001b[0;32m<ipython-input-26-24cdd6a37e12>\u001b[0m in \u001b[0;36m<module>\u001b[0;34m()\u001b[0m\n\u001b[1;32m      1\u001b[0m \u001b[0;32mwith\u001b[0m \u001b[0mPool\u001b[0m\u001b[0;34m(\u001b[0m\u001b[0;36m48\u001b[0m\u001b[0;34m)\u001b[0m \u001b[0;32mas\u001b[0m \u001b[0mp\u001b[0m\u001b[0;34m:\u001b[0m\u001b[0;34m\u001b[0m\u001b[0m\n\u001b[0;32m----> 2\u001b[0;31m    \u001b[0mp\u001b[0m\u001b[0;34m.\u001b[0m\u001b[0mmap\u001b[0m\u001b[0;34m(\u001b[0m\u001b[0mmake_all\u001b[0m\u001b[0;34m,\u001b[0m \u001b[0mlist_of_urls\u001b[0m\u001b[0;34m[\u001b[0m\u001b[0;36m347\u001b[0m\u001b[0;34m:\u001b[0m\u001b[0;34m]\u001b[0m\u001b[0;34m)\u001b[0m\u001b[0;34m\u001b[0m\u001b[0m\n\u001b[0m",
      "\u001b[0;32m~/anaconda3/lib/python3.5/multiprocessing/pool.py\u001b[0m in \u001b[0;36mmap\u001b[0;34m(self, func, iterable, chunksize)\u001b[0m\n\u001b[1;32m    264\u001b[0m         \u001b[0;32min\u001b[0m \u001b[0ma\u001b[0m \u001b[0mlist\u001b[0m \u001b[0mthat\u001b[0m \u001b[0;32mis\u001b[0m \u001b[0mreturned\u001b[0m\u001b[0;34m.\u001b[0m\u001b[0;34m\u001b[0m\u001b[0m\n\u001b[1;32m    265\u001b[0m         '''\n\u001b[0;32m--> 266\u001b[0;31m         \u001b[0;32mreturn\u001b[0m \u001b[0mself\u001b[0m\u001b[0;34m.\u001b[0m\u001b[0m_map_async\u001b[0m\u001b[0;34m(\u001b[0m\u001b[0mfunc\u001b[0m\u001b[0;34m,\u001b[0m \u001b[0miterable\u001b[0m\u001b[0;34m,\u001b[0m \u001b[0mmapstar\u001b[0m\u001b[0;34m,\u001b[0m \u001b[0mchunksize\u001b[0m\u001b[0;34m)\u001b[0m\u001b[0;34m.\u001b[0m\u001b[0mget\u001b[0m\u001b[0;34m(\u001b[0m\u001b[0;34m)\u001b[0m\u001b[0;34m\u001b[0m\u001b[0m\n\u001b[0m\u001b[1;32m    267\u001b[0m \u001b[0;34m\u001b[0m\u001b[0m\n\u001b[1;32m    268\u001b[0m     \u001b[0;32mdef\u001b[0m \u001b[0mstarmap\u001b[0m\u001b[0;34m(\u001b[0m\u001b[0mself\u001b[0m\u001b[0;34m,\u001b[0m \u001b[0mfunc\u001b[0m\u001b[0;34m,\u001b[0m \u001b[0miterable\u001b[0m\u001b[0;34m,\u001b[0m \u001b[0mchunksize\u001b[0m\u001b[0;34m=\u001b[0m\u001b[0;32mNone\u001b[0m\u001b[0;34m)\u001b[0m\u001b[0;34m:\u001b[0m\u001b[0;34m\u001b[0m\u001b[0m\n",
      "\u001b[0;32m~/anaconda3/lib/python3.5/multiprocessing/pool.py\u001b[0m in \u001b[0;36mget\u001b[0;34m(self, timeout)\u001b[0m\n\u001b[1;32m    642\u001b[0m             \u001b[0;32mreturn\u001b[0m \u001b[0mself\u001b[0m\u001b[0;34m.\u001b[0m\u001b[0m_value\u001b[0m\u001b[0;34m\u001b[0m\u001b[0m\n\u001b[1;32m    643\u001b[0m         \u001b[0;32melse\u001b[0m\u001b[0;34m:\u001b[0m\u001b[0;34m\u001b[0m\u001b[0m\n\u001b[0;32m--> 644\u001b[0;31m             \u001b[0;32mraise\u001b[0m \u001b[0mself\u001b[0m\u001b[0;34m.\u001b[0m\u001b[0m_value\u001b[0m\u001b[0;34m\u001b[0m\u001b[0m\n\u001b[0m\u001b[1;32m    645\u001b[0m \u001b[0;34m\u001b[0m\u001b[0m\n\u001b[1;32m    646\u001b[0m     \u001b[0;32mdef\u001b[0m \u001b[0m_set\u001b[0m\u001b[0;34m(\u001b[0m\u001b[0mself\u001b[0m\u001b[0;34m,\u001b[0m \u001b[0mi\u001b[0m\u001b[0;34m,\u001b[0m \u001b[0mobj\u001b[0m\u001b[0;34m)\u001b[0m\u001b[0;34m:\u001b[0m\u001b[0;34m\u001b[0m\u001b[0m\n",
      "\u001b[0;31mConnectionError\u001b[0m: None: Max retries exceeded with url: //vk.com/superjob (Caused by None)"
     ]
    }
   ],
   "source": [
    "with Pool(48) as p:\n",
    "   p.map(make_all, list_of_urls)"
   ]
  },
  {
   "cell_type": "markdown",
   "metadata": {},
   "source": [
    "мы же готовы подождать"
   ]
  },
  {
   "cell_type": "markdown",
   "metadata": {},
   "source": [
    "обратите внимание, что строки ДОПИСЫВАЮТСЯ в файл, а НЕ ПЕРЕЗАПИСЫВАЮТСЯ. Так что если интернет отвалился/вас забанили/итд можно будет продолжить"
   ]
  },
  {
   "cell_type": "code",
   "execution_count": 41,
   "metadata": {
    "ExecuteTime": {
     "end_time": "2018-05-20T07:46:15.370664Z",
     "start_time": "2018-05-20T07:37:03.807900Z"
    }
   },
   "outputs": [
    {
     "name": "stdout",
     "output_type": "stream",
     "text": [
      "I`m not dead, I`m working! The link is 1022\n",
      "I`m not dead, I`m working! The link is 1023\n",
      "I`m not dead, I`m working! The link is 1024\n",
      "I`m not dead, I`m working! The link is 1025\n",
      "I`m not dead, I`m working! The link is 1026\n",
      "I`m not dead, I`m working! The link is 1027\n",
      "I`m not dead, I`m working! The link is 1028\n",
      "I`m not dead, I`m working! The link is 1029\n",
      "I`m not dead, I`m working! The link is 1030\n",
      "I`m not dead, I`m working! The link is 1031\n",
      "I`m not dead, I`m working! The link is 1032\n",
      "I`m not dead, I`m working! The link is 1033\n",
      "I`m not dead, I`m working! The link is 1034\n",
      "I`m not dead, I`m working! The link is 1035\n",
      "I`m not dead, I`m working! The link is 1036\n",
      "I`m not dead, I`m working! The link is 1037\n",
      "I`m not dead, I`m working! The link is 1038\n",
      "I`m not dead, I`m working! The link is 1039\n",
      "I`m not dead, I`m working! The link is 1040\n",
      "I`m not dead, I`m working! The link is 1041\n",
      "I`m not dead, I`m working! The link is 1042\n",
      "I`m not dead, I`m working! The link is 1043\n",
      "I`m not dead, I`m working! The link is 1044\n",
      "I`m not dead, I`m working! The link is 1045\n",
      "I`m not dead, I`m working! The link is 1046\n",
      "I`m not dead, I`m working! The link is 1047\n",
      "I`m not dead, I`m working! The link is 1048\n",
      "I`m not dead, I`m working! The link is 1049\n",
      "I`m not dead, I`m working! The link is 1050\n",
      "I`m not dead, I`m working! The link is 1051\n",
      "I`m not dead, I`m working! The link is 1052\n",
      "I`m not dead, I`m working! The link is 1053\n",
      "I`m not dead, I`m working! The link is 1054\n",
      "I`m not dead, I`m working! The link is 1055\n",
      "I`m not dead, I`m working! The link is 1056\n",
      "I`m not dead, I`m working! The link is 1057\n",
      "I`m not dead, I`m working! The link is 1058\n",
      "I`m not dead, I`m working! The link is 1059\n",
      "I`m not dead, I`m working! The link is 1060\n",
      "I`m not dead, I`m working! The link is 1061\n",
      "I`m not dead, I`m working! The link is 1062\n",
      "I`m not dead, I`m working! The link is 1063\n",
      "I`m not dead, I`m working! The link is 1064\n",
      "I`m not dead, I`m working! The link is 1065\n",
      "I`m not dead, I`m working! The link is 1066\n",
      "I`m not dead, I`m working! The link is 1067\n",
      "I`m not dead, I`m working! The link is 1068\n",
      "I`m not dead, I`m working! The link is 1069\n",
      "I`m not dead, I`m working! The link is 1070\n",
      "I`m not dead, I`m working! The link is 1071\n",
      "I`m not dead, I`m working! The link is 1072\n",
      "I`m not dead, I`m working! The link is 1073\n",
      "I`m not dead, I`m working! The link is 1074\n",
      "I`m not dead, I`m working! The link is 1075\n",
      "I`m not dead, I`m working! The link is 1076\n",
      "I`m not dead, I`m working! The link is 1077\n",
      "I`m not dead, I`m working! The link is 1078\n",
      "I`m not dead, I`m working! The link is 1079\n",
      "I`m not dead, I`m working! The link is 1080\n",
      "I`m not dead, I`m working! The link is 1081\n",
      "I`m not dead, I`m working! The link is 1082\n",
      "I`m not dead, I`m working! The link is 1083\n",
      "I`m not dead, I`m working! The link is 1084\n",
      "I`m not dead, I`m working! The link is 1085\n",
      "I`m not dead, I`m working! The link is 1086\n",
      "I`m not dead, I`m working! The link is 1087\n",
      "I`m not dead, I`m working! The link is 1088\n",
      "I`m not dead, I`m working! The link is 1089\n",
      "I`m not dead, I`m working! The link is 1090\n",
      "I`m not dead, I`m working! The link is 1091\n",
      "I`m not dead, I`m working! The link is 1092\n",
      "I`m not dead, I`m working! The link is 1093\n",
      "I`m not dead, I`m working! The link is 1094\n",
      "I`m not dead, I`m working! The link is 1095\n",
      "I`m not dead, I`m working! The link is 1096\n",
      "I`m not dead, I`m working! The link is 1097\n",
      "I`m not dead, I`m working! The link is 1098\n",
      "I`m not dead, I`m working! The link is 1099\n",
      "I`m not dead, I`m working! The link is 1100\n",
      "I`m not dead, I`m working! The link is 1101\n",
      "I`m not dead, I`m working! The link is 1102\n",
      "I`m not dead, I`m working! The link is 1103\n",
      "I`m not dead, I`m working! The link is 1104\n",
      "I`m not dead, I`m working! The link is 1105\n",
      "I`m not dead, I`m working! The link is 1106\n",
      "I`m not dead, I`m working! The link is 1107\n",
      "I`m not dead, I`m working! The link is 1108\n",
      "I`m not dead, I`m working! The link is 1109\n",
      "I`m not dead, I`m working! The link is 1110\n",
      "I`m not dead, I`m working! The link is 1111\n",
      "I`m not dead, I`m working! The link is 1112\n",
      "I`m not dead, I`m working! The link is 1113\n",
      "I`m not dead, I`m working! The link is 1114\n",
      "I`m not dead, I`m working! The link is 1115\n",
      "I`m not dead, I`m working! The link is 1116\n",
      "I`m not dead, I`m working! The link is 1117\n",
      "I`m not dead, I`m working! The link is 1118\n",
      "I`m not dead, I`m working! The link is 1119\n",
      "I`m not dead, I`m working! The link is 1120\n",
      "I`m not dead, I`m working! The link is 1121\n",
      "I`m not dead, I`m working! The link is 1122\n",
      "I`m not dead, I`m working! The link is 1123\n",
      "I`m not dead, I`m working! The link is 1124\n",
      "I`m not dead, I`m working! The link is 1125\n",
      "I`m not dead, I`m working! The link is 1126\n",
      "I`m not dead, I`m working! The link is 1127\n",
      "I`m not dead, I`m working! The link is 1128\n",
      "I`m not dead, I`m working! The link is 1129\n",
      "I`m not dead, I`m working! The link is 1130\n",
      "I`m not dead, I`m working! The link is 1131\n",
      "I`m not dead, I`m working! The link is 1132\n",
      "I`m not dead, I`m working! The link is 1133\n",
      "I`m not dead, I`m working! The link is 1134\n",
      "I`m not dead, I`m working! The link is 1135\n",
      "I`m not dead, I`m working! The link is 1136\n",
      "I`m not dead, I`m working! The link is 1137\n",
      "I`m not dead, I`m working! The link is 1138\n",
      "I`m not dead, I`m working! The link is 1139\n",
      "I`m not dead, I`m working! The link is 1140\n",
      "I`m not dead, I`m working! The link is 1141\n",
      "I`m not dead, I`m working! The link is 1142\n",
      "I`m not dead, I`m working! The link is 1143\n",
      "I`m not dead, I`m working! The link is 1144\n",
      "I`m not dead, I`m working! The link is 1145\n",
      "I`m not dead, I`m working! The link is 1146\n",
      "I`m not dead, I`m working! The link is 1147\n",
      "I`m not dead, I`m working! The link is 1148\n",
      "I`m not dead, I`m working! The link is 1149\n",
      "I`m not dead, I`m working! The link is 1150\n",
      "I`m not dead, I`m working! The link is 1151\n",
      "I`m not dead, I`m working! The link is 1152\n",
      "I`m not dead, I`m working! The link is 1153\n",
      "I`m not dead, I`m working! The link is 1154\n",
      "I`m not dead, I`m working! The link is 1155\n",
      "I`m not dead, I`m working! The link is 1156\n",
      "I`m not dead, I`m working! The link is 1157\n",
      "I`m not dead, I`m working! The link is 1158\n",
      "I`m not dead, I`m working! The link is 1159\n",
      "I`m not dead, I`m working! The link is 1160\n",
      "I`m not dead, I`m working! The link is 1161\n",
      "I`m not dead, I`m working! The link is 1162\n",
      "I`m not dead, I`m working! The link is 1163\n",
      "I`m not dead, I`m working! The link is 1164\n",
      "I`m not dead, I`m working! The link is 1165\n",
      "I`m not dead, I`m working! The link is 1166\n",
      "I`m not dead, I`m working! The link is 1167\n",
      "I`m not dead, I`m working! The link is 1168\n",
      "I`m not dead, I`m working! The link is 1169\n",
      "I`m not dead, I`m working! The link is 1170\n",
      "I`m not dead, I`m working! The link is 1171\n",
      "I`m not dead, I`m working! The link is 1172\n",
      "I`m not dead, I`m working! The link is 1173\n",
      "I`m not dead, I`m working! The link is 1174\n",
      "I`m not dead, I`m working! The link is 1175\n",
      "I`m not dead, I`m working! The link is 1176\n",
      "I`m not dead, I`m working! The link is 1177\n",
      "I`m not dead, I`m working! The link is 1178\n",
      "I`m not dead, I`m working! The link is 1179\n",
      "I`m not dead, I`m working! The link is 1180\n",
      "I`m not dead, I`m working! The link is 1181\n",
      "I`m not dead, I`m working! The link is 1182\n",
      "I`m not dead, I`m working! The link is 1183\n",
      "I`m not dead, I`m working! The link is 1184\n",
      "I`m not dead, I`m working! The link is 1185\n",
      "I`m not dead, I`m working! The link is 1186\n",
      "I`m not dead, I`m working! The link is 1187\n",
      "I`m not dead, I`m working! The link is 1188\n",
      "I`m not dead, I`m working! The link is 1189\n",
      "I`m not dead, I`m working! The link is 1190\n",
      "I`m not dead, I`m working! The link is 1191\n",
      "I`m not dead, I`m working! The link is 1192\n",
      "I`m not dead, I`m working! The link is 1193\n",
      "I`m not dead, I`m working! The link is 1194\n",
      "I`m not dead, I`m working! The link is 1195\n",
      "I`m not dead, I`m working! The link is 1196\n",
      "I`m not dead, I`m working! The link is 1197\n",
      "I`m not dead, I`m working! The link is 1198\n",
      "I`m not dead, I`m working! The link is 1199\n",
      "I`m not dead, I`m working! The link is 1200\n",
      "I`m not dead, I`m working! The link is 1201\n",
      "I`m not dead, I`m working! The link is 1202\n",
      "I`m not dead, I`m working! The link is 1203\n",
      "I`m not dead, I`m working! The link is 1204\n",
      "I`m not dead, I`m working! The link is 1205\n",
      "I`m not dead, I`m working! The link is 1206\n",
      "I`m not dead, I`m working! The link is 1207\n",
      "I`m not dead, I`m working! The link is 1208\n"
     ]
    },
    {
     "name": "stdout",
     "output_type": "stream",
     "text": [
      "I`m not dead, I`m working! The link is 1209\n",
      "I`m not dead, I`m working! The link is 1210\n",
      "I`m not dead, I`m working! The link is 1211\n",
      "I`m not dead, I`m working! The link is 1212\n",
      "I`m not dead, I`m working! The link is 1213\n",
      "I`m not dead, I`m working! The link is 1214\n",
      "I`m not dead, I`m working! The link is 1215\n",
      "I`m not dead, I`m working! The link is 1216\n",
      "I`m not dead, I`m working! The link is 1217\n",
      "I`m not dead, I`m working! The link is 1218\n",
      "I`m not dead, I`m working! The link is 1219\n",
      "I`m not dead, I`m working! The link is 1220\n",
      "I`m not dead, I`m working! The link is 1221\n",
      "I`m not dead, I`m working! The link is 1222\n",
      "I`m not dead, I`m working! The link is 1223\n",
      "I`m not dead, I`m working! The link is 1224\n",
      "I`m not dead, I`m working! The link is 1225\n",
      "I`m not dead, I`m working! The link is 1226\n",
      "I`m not dead, I`m working! The link is 1227\n",
      "I`m not dead, I`m working! The link is 1228\n",
      "I`m not dead, I`m working! The link is 1229\n",
      "I`m not dead, I`m working! The link is 1230\n",
      "I`m not dead, I`m working! The link is 1231\n",
      "I`m not dead, I`m working! The link is 1232\n",
      "I`m not dead, I`m working! The link is 1233\n",
      "I`m not dead, I`m working! The link is 1234\n",
      "I`m not dead, I`m working! The link is 1235\n",
      "I`m not dead, I`m working! The link is 1236\n",
      "I`m not dead, I`m working! The link is 1237\n",
      "I`m not dead, I`m working! The link is 1238\n",
      "I`m not dead, I`m working! The link is 1239\n",
      "I`m not dead, I`m working! The link is 1240\n",
      "I`m not dead, I`m working! The link is 1241\n",
      "I`m not dead, I`m working! The link is 1242\n",
      "I`m not dead, I`m working! The link is 1243\n",
      "I`m not dead, I`m working! The link is 1244\n",
      "I`m not dead, I`m working! The link is 1245\n",
      "I`m not dead, I`m working! The link is 1246\n",
      "I`m not dead, I`m working! The link is 1247\n",
      "I`m not dead, I`m working! The link is 1248\n",
      "I`m not dead, I`m working! The link is 1249\n",
      "I`m not dead, I`m working! The link is 1250\n",
      "I`m not dead, I`m working! The link is 1251\n",
      "I`m not dead, I`m working! The link is 1252\n",
      "I`m not dead, I`m working! The link is 1253\n",
      "I`m not dead, I`m working! The link is 1254\n",
      "I`m not dead, I`m working! The link is 1255\n",
      "I`m not dead, I`m working! The link is 1256\n",
      "I`m not dead, I`m working! The link is 1257\n",
      "I`m not dead, I`m working! The link is 1258\n",
      "I`m not dead, I`m working! The link is 1259\n",
      "I`m not dead, I`m working! The link is 1260\n",
      "I`m not dead, I`m working! The link is 1261\n",
      "I`m not dead, I`m working! The link is 1262\n",
      "I`m not dead, I`m working! The link is 1263\n",
      "I`m not dead, I`m working! The link is 1264\n",
      "I`m not dead, I`m working! The link is 1265\n",
      "I`m not dead, I`m working! The link is 1266\n",
      "I`m not dead, I`m working! The link is 1267\n",
      "I`m not dead, I`m working! The link is 1268\n",
      "I`m not dead, I`m working! The link is 1269\n",
      "I`m not dead, I`m working! The link is 1270\n",
      "I`m not dead, I`m working! The link is 1271\n",
      "I`m not dead, I`m working! The link is 1272\n",
      "I`m not dead, I`m working! The link is 1273\n",
      "I`m not dead, I`m working! The link is 1274\n",
      "I`m not dead, I`m working! The link is 1275\n",
      "I`m not dead, I`m working! The link is 1276\n",
      "I`m not dead, I`m working! The link is 1277\n",
      "I`m not dead, I`m working! The link is 1278\n",
      "I`m not dead, I`m working! The link is 1279\n",
      "I`m not dead, I`m working! The link is 1280\n",
      "I`m not dead, I`m working! The link is 1281\n",
      "I`m not dead, I`m working! The link is 1282\n",
      "I`m not dead, I`m working! The link is 1283\n",
      "I`m not dead, I`m working! The link is 1284\n",
      "I`m not dead, I`m working! The link is 1285\n",
      "I`m not dead, I`m working! The link is 1286\n",
      "I`m not dead, I`m working! The link is 1287\n",
      "I`m not dead, I`m working! The link is 1288\n",
      "I`m not dead, I`m working! The link is 1289\n",
      "I`m not dead, I`m working! The link is 1290\n",
      "I`m not dead, I`m working! The link is 1291\n",
      "I`m not dead, I`m working! The link is 1292\n",
      "I`m not dead, I`m working! The link is 1293\n",
      "I`m not dead, I`m working! The link is 1294\n",
      "I`m not dead, I`m working! The link is 1295\n",
      "I`m not dead, I`m working! The link is 1296\n",
      "I`m not dead, I`m working! The link is 1297\n",
      "I`m not dead, I`m working! The link is 1298\n",
      "I`m not dead, I`m working! The link is 1299\n",
      "I`m not dead, I`m working! The link is 1300\n",
      "I`m not dead, I`m working! The link is 1301\n",
      "I`m not dead, I`m working! The link is 1302\n",
      "I`m not dead, I`m working! The link is 1303\n",
      "I`m not dead, I`m working! The link is 1304\n",
      "I`m not dead, I`m working! The link is 1305\n",
      "I`m not dead, I`m working! The link is 1306\n",
      "I`m not dead, I`m working! The link is 1307\n",
      "I`m not dead, I`m working! The link is 1308\n",
      "I`m not dead, I`m working! The link is 1309\n",
      "I`m not dead, I`m working! The link is 1310\n",
      "I`m not dead, I`m working! The link is 1311\n",
      "I`m not dead, I`m working! The link is 1312\n",
      "I`m not dead, I`m working! The link is 1313\n",
      "I`m not dead, I`m working! The link is 1314\n",
      "I`m not dead, I`m working! The link is 1315\n",
      "I`m not dead, I`m working! The link is 1316\n",
      "I`m not dead, I`m working! The link is 1317\n",
      "I`m not dead, I`m working! The link is 1318\n",
      "I`m not dead, I`m working! The link is 1319\n",
      "I`m not dead, I`m working! The link is 1320\n",
      "I`m not dead, I`m working! The link is 1321\n",
      "I`m not dead, I`m working! The link is 1322\n",
      "I`m not dead, I`m working! The link is 1323\n",
      "I`m not dead, I`m working! The link is 1324\n",
      "I`m not dead, I`m working! The link is 1325\n",
      "I`m not dead, I`m working! The link is 1326\n",
      "I`m not dead, I`m working! The link is 1327\n",
      "I`m not dead, I`m working! The link is 1328\n",
      "I`m not dead, I`m working! The link is 1329\n",
      "I`m not dead, I`m working! The link is 1330\n",
      "I`m not dead, I`m working! The link is 1331\n",
      "I`m not dead, I`m working! The link is 1332\n",
      "I`m not dead, I`m working! The link is 1333\n",
      "I`m not dead, I`m working! The link is 1334\n",
      "I`m not dead, I`m working! The link is 1335\n",
      "I`m not dead, I`m working! The link is 1336\n",
      "I`m not dead, I`m working! The link is 1337\n",
      "I`m not dead, I`m working! The link is 1338\n",
      "I`m not dead, I`m working! The link is 1339\n",
      "I`m not dead, I`m working! The link is 1340\n",
      "I`m not dead, I`m working! The link is 1341\n",
      "I`m not dead, I`m working! The link is 1342\n",
      "I`m not dead, I`m working! The link is 1343\n",
      "I`m not dead, I`m working! The link is 1344\n",
      "I`m not dead, I`m working! The link is 1345\n",
      "I`m not dead, I`m working! The link is 1346\n",
      "I`m not dead, I`m working! The link is 1347\n",
      "I`m not dead, I`m working! The link is 1348\n",
      "I`m not dead, I`m working! The link is 1349\n",
      "I`m not dead, I`m working! The link is 1350\n",
      "I`m not dead, I`m working! The link is 1351\n",
      "I`m not dead, I`m working! The link is 1352\n",
      "I`m not dead, I`m working! The link is 1353\n"
     ]
    },
    {
     "ename": "KeyboardInterrupt",
     "evalue": "",
     "output_type": "error",
     "traceback": [
      "\u001b[0;31m---------------------------------------------------------------------------\u001b[0m",
      "\u001b[0;31mTypeError\u001b[0m                                 Traceback (most recent call last)",
      "\u001b[0;32m~/anaconda3/lib/python3.5/site-packages/urllib3/connectionpool.py\u001b[0m in \u001b[0;36m_make_request\u001b[0;34m(self, conn, method, url, timeout, chunked, **httplib_request_kw)\u001b[0m\n\u001b[1;32m    379\u001b[0m             \u001b[0;32mtry\u001b[0m\u001b[0;34m:\u001b[0m  \u001b[0;31m# Python 2.7, use buffering of HTTP responses\u001b[0m\u001b[0;34m\u001b[0m\u001b[0m\n\u001b[0;32m--> 380\u001b[0;31m                 \u001b[0mhttplib_response\u001b[0m \u001b[0;34m=\u001b[0m \u001b[0mconn\u001b[0m\u001b[0;34m.\u001b[0m\u001b[0mgetresponse\u001b[0m\u001b[0;34m(\u001b[0m\u001b[0mbuffering\u001b[0m\u001b[0;34m=\u001b[0m\u001b[0;32mTrue\u001b[0m\u001b[0;34m)\u001b[0m\u001b[0;34m\u001b[0m\u001b[0m\n\u001b[0m\u001b[1;32m    381\u001b[0m             \u001b[0;32mexcept\u001b[0m \u001b[0mTypeError\u001b[0m\u001b[0;34m:\u001b[0m  \u001b[0;31m# Python 2.6 and older, Python 3\u001b[0m\u001b[0;34m\u001b[0m\u001b[0m\n",
      "\u001b[0;31mTypeError\u001b[0m: getresponse() got an unexpected keyword argument 'buffering'",
      "\nDuring handling of the above exception, another exception occurred:\n",
      "\u001b[0;31mKeyboardInterrupt\u001b[0m                         Traceback (most recent call last)",
      "\u001b[0;32m<ipython-input-41-b7fdeea01c7c>\u001b[0m in \u001b[0;36m<module>\u001b[0;34m()\u001b[0m\n\u001b[1;32m      4\u001b[0m \u001b[0;34m\u001b[0m\u001b[0m\n\u001b[1;32m      5\u001b[0m     \u001b[0murl\u001b[0m \u001b[0;34m=\u001b[0m \u001b[0;34m'https://www.superjob.ru'\u001b[0m \u001b[0;34m+\u001b[0m \u001b[0mlist_of_urls\u001b[0m\u001b[0;34m[\u001b[0m\u001b[0mi\u001b[0m\u001b[0;34m]\u001b[0m\u001b[0;34m\u001b[0m\u001b[0m\n\u001b[0;32m----> 6\u001b[0;31m     \u001b[0murl\u001b[0m \u001b[0;34m=\u001b[0m \u001b[0mrequests\u001b[0m\u001b[0;34m.\u001b[0m\u001b[0mget\u001b[0m\u001b[0;34m(\u001b[0m\u001b[0murl\u001b[0m\u001b[0;34m)\u001b[0m\u001b[0;34m.\u001b[0m\u001b[0mcontent\u001b[0m\u001b[0;34m\u001b[0m\u001b[0m\n\u001b[0m\u001b[1;32m      7\u001b[0m \u001b[0;34m\u001b[0m\u001b[0m\n\u001b[1;32m      8\u001b[0m     to_append = {'new_pos':get_new_pos(url), 'salary':get_salary(url), \n",
      "\u001b[0;32m~/anaconda3/lib/python3.5/site-packages/requests/api.py\u001b[0m in \u001b[0;36mget\u001b[0;34m(url, params, **kwargs)\u001b[0m\n\u001b[1;32m     70\u001b[0m \u001b[0;34m\u001b[0m\u001b[0m\n\u001b[1;32m     71\u001b[0m     \u001b[0mkwargs\u001b[0m\u001b[0;34m.\u001b[0m\u001b[0msetdefault\u001b[0m\u001b[0;34m(\u001b[0m\u001b[0;34m'allow_redirects'\u001b[0m\u001b[0;34m,\u001b[0m \u001b[0;32mTrue\u001b[0m\u001b[0;34m)\u001b[0m\u001b[0;34m\u001b[0m\u001b[0m\n\u001b[0;32m---> 72\u001b[0;31m     \u001b[0;32mreturn\u001b[0m \u001b[0mrequest\u001b[0m\u001b[0;34m(\u001b[0m\u001b[0;34m'get'\u001b[0m\u001b[0;34m,\u001b[0m \u001b[0murl\u001b[0m\u001b[0;34m,\u001b[0m \u001b[0mparams\u001b[0m\u001b[0;34m=\u001b[0m\u001b[0mparams\u001b[0m\u001b[0;34m,\u001b[0m \u001b[0;34m**\u001b[0m\u001b[0mkwargs\u001b[0m\u001b[0;34m)\u001b[0m\u001b[0;34m\u001b[0m\u001b[0m\n\u001b[0m\u001b[1;32m     73\u001b[0m \u001b[0;34m\u001b[0m\u001b[0m\n\u001b[1;32m     74\u001b[0m \u001b[0;34m\u001b[0m\u001b[0m\n",
      "\u001b[0;32m~/anaconda3/lib/python3.5/site-packages/requests/api.py\u001b[0m in \u001b[0;36mrequest\u001b[0;34m(method, url, **kwargs)\u001b[0m\n\u001b[1;32m     56\u001b[0m     \u001b[0;31m# cases, and look like a memory leak in others.\u001b[0m\u001b[0;34m\u001b[0m\u001b[0;34m\u001b[0m\u001b[0m\n\u001b[1;32m     57\u001b[0m     \u001b[0;32mwith\u001b[0m \u001b[0msessions\u001b[0m\u001b[0;34m.\u001b[0m\u001b[0mSession\u001b[0m\u001b[0;34m(\u001b[0m\u001b[0;34m)\u001b[0m \u001b[0;32mas\u001b[0m \u001b[0msession\u001b[0m\u001b[0;34m:\u001b[0m\u001b[0;34m\u001b[0m\u001b[0m\n\u001b[0;32m---> 58\u001b[0;31m         \u001b[0;32mreturn\u001b[0m \u001b[0msession\u001b[0m\u001b[0;34m.\u001b[0m\u001b[0mrequest\u001b[0m\u001b[0;34m(\u001b[0m\u001b[0mmethod\u001b[0m\u001b[0;34m=\u001b[0m\u001b[0mmethod\u001b[0m\u001b[0;34m,\u001b[0m \u001b[0murl\u001b[0m\u001b[0;34m=\u001b[0m\u001b[0murl\u001b[0m\u001b[0;34m,\u001b[0m \u001b[0;34m**\u001b[0m\u001b[0mkwargs\u001b[0m\u001b[0;34m)\u001b[0m\u001b[0;34m\u001b[0m\u001b[0m\n\u001b[0m\u001b[1;32m     59\u001b[0m \u001b[0;34m\u001b[0m\u001b[0m\n\u001b[1;32m     60\u001b[0m \u001b[0;34m\u001b[0m\u001b[0m\n",
      "\u001b[0;32m~/anaconda3/lib/python3.5/site-packages/requests/sessions.py\u001b[0m in \u001b[0;36mrequest\u001b[0;34m(self, method, url, params, data, headers, cookies, files, auth, timeout, allow_redirects, proxies, hooks, stream, verify, cert, json)\u001b[0m\n\u001b[1;32m    506\u001b[0m         }\n\u001b[1;32m    507\u001b[0m         \u001b[0msend_kwargs\u001b[0m\u001b[0;34m.\u001b[0m\u001b[0mupdate\u001b[0m\u001b[0;34m(\u001b[0m\u001b[0msettings\u001b[0m\u001b[0;34m)\u001b[0m\u001b[0;34m\u001b[0m\u001b[0m\n\u001b[0;32m--> 508\u001b[0;31m         \u001b[0mresp\u001b[0m \u001b[0;34m=\u001b[0m \u001b[0mself\u001b[0m\u001b[0;34m.\u001b[0m\u001b[0msend\u001b[0m\u001b[0;34m(\u001b[0m\u001b[0mprep\u001b[0m\u001b[0;34m,\u001b[0m \u001b[0;34m**\u001b[0m\u001b[0msend_kwargs\u001b[0m\u001b[0;34m)\u001b[0m\u001b[0;34m\u001b[0m\u001b[0m\n\u001b[0m\u001b[1;32m    509\u001b[0m \u001b[0;34m\u001b[0m\u001b[0m\n\u001b[1;32m    510\u001b[0m         \u001b[0;32mreturn\u001b[0m \u001b[0mresp\u001b[0m\u001b[0;34m\u001b[0m\u001b[0m\n",
      "\u001b[0;32m~/anaconda3/lib/python3.5/site-packages/requests/sessions.py\u001b[0m in \u001b[0;36msend\u001b[0;34m(self, request, **kwargs)\u001b[0m\n\u001b[1;32m    616\u001b[0m \u001b[0;34m\u001b[0m\u001b[0m\n\u001b[1;32m    617\u001b[0m         \u001b[0;31m# Send the request\u001b[0m\u001b[0;34m\u001b[0m\u001b[0;34m\u001b[0m\u001b[0m\n\u001b[0;32m--> 618\u001b[0;31m         \u001b[0mr\u001b[0m \u001b[0;34m=\u001b[0m \u001b[0madapter\u001b[0m\u001b[0;34m.\u001b[0m\u001b[0msend\u001b[0m\u001b[0;34m(\u001b[0m\u001b[0mrequest\u001b[0m\u001b[0;34m,\u001b[0m \u001b[0;34m**\u001b[0m\u001b[0mkwargs\u001b[0m\u001b[0;34m)\u001b[0m\u001b[0;34m\u001b[0m\u001b[0m\n\u001b[0m\u001b[1;32m    619\u001b[0m \u001b[0;34m\u001b[0m\u001b[0m\n\u001b[1;32m    620\u001b[0m         \u001b[0;31m# Total elapsed time of the request (approximately)\u001b[0m\u001b[0;34m\u001b[0m\u001b[0;34m\u001b[0m\u001b[0m\n",
      "\u001b[0;32m~/anaconda3/lib/python3.5/site-packages/requests/adapters.py\u001b[0m in \u001b[0;36msend\u001b[0;34m(self, request, stream, timeout, verify, cert, proxies)\u001b[0m\n\u001b[1;32m    438\u001b[0m                     \u001b[0mdecode_content\u001b[0m\u001b[0;34m=\u001b[0m\u001b[0;32mFalse\u001b[0m\u001b[0;34m,\u001b[0m\u001b[0;34m\u001b[0m\u001b[0m\n\u001b[1;32m    439\u001b[0m                     \u001b[0mretries\u001b[0m\u001b[0;34m=\u001b[0m\u001b[0mself\u001b[0m\u001b[0;34m.\u001b[0m\u001b[0mmax_retries\u001b[0m\u001b[0;34m,\u001b[0m\u001b[0;34m\u001b[0m\u001b[0m\n\u001b[0;32m--> 440\u001b[0;31m                     \u001b[0mtimeout\u001b[0m\u001b[0;34m=\u001b[0m\u001b[0mtimeout\u001b[0m\u001b[0;34m\u001b[0m\u001b[0m\n\u001b[0m\u001b[1;32m    441\u001b[0m                 )\n\u001b[1;32m    442\u001b[0m \u001b[0;34m\u001b[0m\u001b[0m\n",
      "\u001b[0;32m~/anaconda3/lib/python3.5/site-packages/urllib3/connectionpool.py\u001b[0m in \u001b[0;36murlopen\u001b[0;34m(self, method, url, body, headers, retries, redirect, assert_same_host, timeout, pool_timeout, release_conn, chunked, body_pos, **response_kw)\u001b[0m\n\u001b[1;32m    599\u001b[0m                                                   \u001b[0mtimeout\u001b[0m\u001b[0;34m=\u001b[0m\u001b[0mtimeout_obj\u001b[0m\u001b[0;34m,\u001b[0m\u001b[0;34m\u001b[0m\u001b[0m\n\u001b[1;32m    600\u001b[0m                                                   \u001b[0mbody\u001b[0m\u001b[0;34m=\u001b[0m\u001b[0mbody\u001b[0m\u001b[0;34m,\u001b[0m \u001b[0mheaders\u001b[0m\u001b[0;34m=\u001b[0m\u001b[0mheaders\u001b[0m\u001b[0;34m,\u001b[0m\u001b[0;34m\u001b[0m\u001b[0m\n\u001b[0;32m--> 601\u001b[0;31m                                                   chunked=chunked)\n\u001b[0m\u001b[1;32m    602\u001b[0m \u001b[0;34m\u001b[0m\u001b[0m\n\u001b[1;32m    603\u001b[0m             \u001b[0;31m# If we're going to release the connection in ``finally:``, then\u001b[0m\u001b[0;34m\u001b[0m\u001b[0;34m\u001b[0m\u001b[0m\n",
      "\u001b[0;32m~/anaconda3/lib/python3.5/site-packages/urllib3/connectionpool.py\u001b[0m in \u001b[0;36m_make_request\u001b[0;34m(self, conn, method, url, timeout, chunked, **httplib_request_kw)\u001b[0m\n\u001b[1;32m    381\u001b[0m             \u001b[0;32mexcept\u001b[0m \u001b[0mTypeError\u001b[0m\u001b[0;34m:\u001b[0m  \u001b[0;31m# Python 2.6 and older, Python 3\u001b[0m\u001b[0;34m\u001b[0m\u001b[0m\n\u001b[1;32m    382\u001b[0m                 \u001b[0;32mtry\u001b[0m\u001b[0;34m:\u001b[0m\u001b[0;34m\u001b[0m\u001b[0m\n\u001b[0;32m--> 383\u001b[0;31m                     \u001b[0mhttplib_response\u001b[0m \u001b[0;34m=\u001b[0m \u001b[0mconn\u001b[0m\u001b[0;34m.\u001b[0m\u001b[0mgetresponse\u001b[0m\u001b[0;34m(\u001b[0m\u001b[0;34m)\u001b[0m\u001b[0;34m\u001b[0m\u001b[0m\n\u001b[0m\u001b[1;32m    384\u001b[0m                 \u001b[0;32mexcept\u001b[0m \u001b[0mException\u001b[0m \u001b[0;32mas\u001b[0m \u001b[0me\u001b[0m\u001b[0;34m:\u001b[0m\u001b[0;34m\u001b[0m\u001b[0m\n\u001b[1;32m    385\u001b[0m                     \u001b[0;31m# Remove the TypeError from the exception chain in Python 3;\u001b[0m\u001b[0;34m\u001b[0m\u001b[0;34m\u001b[0m\u001b[0m\n",
      "\u001b[0;32m~/anaconda3/lib/python3.5/http/client.py\u001b[0m in \u001b[0;36mgetresponse\u001b[0;34m(self)\u001b[0m\n\u001b[1;32m   1196\u001b[0m         \u001b[0;32mtry\u001b[0m\u001b[0;34m:\u001b[0m\u001b[0;34m\u001b[0m\u001b[0m\n\u001b[1;32m   1197\u001b[0m             \u001b[0;32mtry\u001b[0m\u001b[0;34m:\u001b[0m\u001b[0;34m\u001b[0m\u001b[0m\n\u001b[0;32m-> 1198\u001b[0;31m                 \u001b[0mresponse\u001b[0m\u001b[0;34m.\u001b[0m\u001b[0mbegin\u001b[0m\u001b[0;34m(\u001b[0m\u001b[0;34m)\u001b[0m\u001b[0;34m\u001b[0m\u001b[0m\n\u001b[0m\u001b[1;32m   1199\u001b[0m             \u001b[0;32mexcept\u001b[0m \u001b[0mConnectionError\u001b[0m\u001b[0;34m:\u001b[0m\u001b[0;34m\u001b[0m\u001b[0m\n\u001b[1;32m   1200\u001b[0m                 \u001b[0mself\u001b[0m\u001b[0;34m.\u001b[0m\u001b[0mclose\u001b[0m\u001b[0;34m(\u001b[0m\u001b[0;34m)\u001b[0m\u001b[0;34m\u001b[0m\u001b[0m\n",
      "\u001b[0;32m~/anaconda3/lib/python3.5/http/client.py\u001b[0m in \u001b[0;36mbegin\u001b[0;34m(self)\u001b[0m\n\u001b[1;32m    295\u001b[0m         \u001b[0;31m# read until we get a non-100 response\u001b[0m\u001b[0;34m\u001b[0m\u001b[0;34m\u001b[0m\u001b[0m\n\u001b[1;32m    296\u001b[0m         \u001b[0;32mwhile\u001b[0m \u001b[0;32mTrue\u001b[0m\u001b[0;34m:\u001b[0m\u001b[0;34m\u001b[0m\u001b[0m\n\u001b[0;32m--> 297\u001b[0;31m             \u001b[0mversion\u001b[0m\u001b[0;34m,\u001b[0m \u001b[0mstatus\u001b[0m\u001b[0;34m,\u001b[0m \u001b[0mreason\u001b[0m \u001b[0;34m=\u001b[0m \u001b[0mself\u001b[0m\u001b[0;34m.\u001b[0m\u001b[0m_read_status\u001b[0m\u001b[0;34m(\u001b[0m\u001b[0;34m)\u001b[0m\u001b[0;34m\u001b[0m\u001b[0m\n\u001b[0m\u001b[1;32m    298\u001b[0m             \u001b[0;32mif\u001b[0m \u001b[0mstatus\u001b[0m \u001b[0;34m!=\u001b[0m \u001b[0mCONTINUE\u001b[0m\u001b[0;34m:\u001b[0m\u001b[0;34m\u001b[0m\u001b[0m\n\u001b[1;32m    299\u001b[0m                 \u001b[0;32mbreak\u001b[0m\u001b[0;34m\u001b[0m\u001b[0m\n",
      "\u001b[0;32m~/anaconda3/lib/python3.5/http/client.py\u001b[0m in \u001b[0;36m_read_status\u001b[0;34m(self)\u001b[0m\n\u001b[1;32m    256\u001b[0m \u001b[0;34m\u001b[0m\u001b[0m\n\u001b[1;32m    257\u001b[0m     \u001b[0;32mdef\u001b[0m \u001b[0m_read_status\u001b[0m\u001b[0;34m(\u001b[0m\u001b[0mself\u001b[0m\u001b[0;34m)\u001b[0m\u001b[0;34m:\u001b[0m\u001b[0;34m\u001b[0m\u001b[0m\n\u001b[0;32m--> 258\u001b[0;31m         \u001b[0mline\u001b[0m \u001b[0;34m=\u001b[0m \u001b[0mstr\u001b[0m\u001b[0;34m(\u001b[0m\u001b[0mself\u001b[0m\u001b[0;34m.\u001b[0m\u001b[0mfp\u001b[0m\u001b[0;34m.\u001b[0m\u001b[0mreadline\u001b[0m\u001b[0;34m(\u001b[0m\u001b[0m_MAXLINE\u001b[0m \u001b[0;34m+\u001b[0m \u001b[0;36m1\u001b[0m\u001b[0;34m)\u001b[0m\u001b[0;34m,\u001b[0m \u001b[0;34m\"iso-8859-1\"\u001b[0m\u001b[0;34m)\u001b[0m\u001b[0;34m\u001b[0m\u001b[0m\n\u001b[0m\u001b[1;32m    259\u001b[0m         \u001b[0;32mif\u001b[0m \u001b[0mlen\u001b[0m\u001b[0;34m(\u001b[0m\u001b[0mline\u001b[0m\u001b[0;34m)\u001b[0m \u001b[0;34m>\u001b[0m \u001b[0m_MAXLINE\u001b[0m\u001b[0;34m:\u001b[0m\u001b[0;34m\u001b[0m\u001b[0m\n\u001b[1;32m    260\u001b[0m             \u001b[0;32mraise\u001b[0m \u001b[0mLineTooLong\u001b[0m\u001b[0;34m(\u001b[0m\u001b[0;34m\"status line\"\u001b[0m\u001b[0;34m)\u001b[0m\u001b[0;34m\u001b[0m\u001b[0m\n",
      "\u001b[0;32m~/anaconda3/lib/python3.5/socket.py\u001b[0m in \u001b[0;36mreadinto\u001b[0;34m(self, b)\u001b[0m\n\u001b[1;32m    574\u001b[0m         \u001b[0;32mwhile\u001b[0m \u001b[0;32mTrue\u001b[0m\u001b[0;34m:\u001b[0m\u001b[0;34m\u001b[0m\u001b[0m\n\u001b[1;32m    575\u001b[0m             \u001b[0;32mtry\u001b[0m\u001b[0;34m:\u001b[0m\u001b[0;34m\u001b[0m\u001b[0m\n\u001b[0;32m--> 576\u001b[0;31m                 \u001b[0;32mreturn\u001b[0m \u001b[0mself\u001b[0m\u001b[0;34m.\u001b[0m\u001b[0m_sock\u001b[0m\u001b[0;34m.\u001b[0m\u001b[0mrecv_into\u001b[0m\u001b[0;34m(\u001b[0m\u001b[0mb\u001b[0m\u001b[0;34m)\u001b[0m\u001b[0;34m\u001b[0m\u001b[0m\n\u001b[0m\u001b[1;32m    577\u001b[0m             \u001b[0;32mexcept\u001b[0m \u001b[0mtimeout\u001b[0m\u001b[0;34m:\u001b[0m\u001b[0;34m\u001b[0m\u001b[0m\n\u001b[1;32m    578\u001b[0m                 \u001b[0mself\u001b[0m\u001b[0;34m.\u001b[0m\u001b[0m_timeout_occurred\u001b[0m \u001b[0;34m=\u001b[0m \u001b[0;32mTrue\u001b[0m\u001b[0;34m\u001b[0m\u001b[0m\n",
      "\u001b[0;32m~/anaconda3/lib/python3.5/site-packages/urllib3/contrib/pyopenssl.py\u001b[0m in \u001b[0;36mrecv_into\u001b[0;34m(self, *args, **kwargs)\u001b[0m\n\u001b[1;32m    278\u001b[0m     \u001b[0;32mdef\u001b[0m \u001b[0mrecv_into\u001b[0m\u001b[0;34m(\u001b[0m\u001b[0mself\u001b[0m\u001b[0;34m,\u001b[0m \u001b[0;34m*\u001b[0m\u001b[0margs\u001b[0m\u001b[0;34m,\u001b[0m \u001b[0;34m**\u001b[0m\u001b[0mkwargs\u001b[0m\u001b[0;34m)\u001b[0m\u001b[0;34m:\u001b[0m\u001b[0;34m\u001b[0m\u001b[0m\n\u001b[1;32m    279\u001b[0m         \u001b[0;32mtry\u001b[0m\u001b[0;34m:\u001b[0m\u001b[0;34m\u001b[0m\u001b[0m\n\u001b[0;32m--> 280\u001b[0;31m             \u001b[0;32mreturn\u001b[0m \u001b[0mself\u001b[0m\u001b[0;34m.\u001b[0m\u001b[0mconnection\u001b[0m\u001b[0;34m.\u001b[0m\u001b[0mrecv_into\u001b[0m\u001b[0;34m(\u001b[0m\u001b[0;34m*\u001b[0m\u001b[0margs\u001b[0m\u001b[0;34m,\u001b[0m \u001b[0;34m**\u001b[0m\u001b[0mkwargs\u001b[0m\u001b[0;34m)\u001b[0m\u001b[0;34m\u001b[0m\u001b[0m\n\u001b[0m\u001b[1;32m    281\u001b[0m         \u001b[0;32mexcept\u001b[0m \u001b[0mOpenSSL\u001b[0m\u001b[0;34m.\u001b[0m\u001b[0mSSL\u001b[0m\u001b[0;34m.\u001b[0m\u001b[0mSysCallError\u001b[0m \u001b[0;32mas\u001b[0m \u001b[0me\u001b[0m\u001b[0;34m:\u001b[0m\u001b[0;34m\u001b[0m\u001b[0m\n\u001b[1;32m    282\u001b[0m             \u001b[0;32mif\u001b[0m \u001b[0mself\u001b[0m\u001b[0;34m.\u001b[0m\u001b[0msuppress_ragged_eofs\u001b[0m \u001b[0;32mand\u001b[0m \u001b[0me\u001b[0m\u001b[0;34m.\u001b[0m\u001b[0margs\u001b[0m \u001b[0;34m==\u001b[0m \u001b[0;34m(\u001b[0m\u001b[0;34m-\u001b[0m\u001b[0;36m1\u001b[0m\u001b[0;34m,\u001b[0m \u001b[0;34m'Unexpected EOF'\u001b[0m\u001b[0;34m)\u001b[0m\u001b[0;34m:\u001b[0m\u001b[0;34m\u001b[0m\u001b[0m\n",
      "\u001b[0;32m~/anaconda3/lib/python3.5/site-packages/OpenSSL/SSL.py\u001b[0m in \u001b[0;36mrecv_into\u001b[0;34m(self, buffer, nbytes, flags)\u001b[0m\n\u001b[1;32m   1622\u001b[0m             \u001b[0mresult\u001b[0m \u001b[0;34m=\u001b[0m \u001b[0m_lib\u001b[0m\u001b[0;34m.\u001b[0m\u001b[0mSSL_peek\u001b[0m\u001b[0;34m(\u001b[0m\u001b[0mself\u001b[0m\u001b[0;34m.\u001b[0m\u001b[0m_ssl\u001b[0m\u001b[0;34m,\u001b[0m \u001b[0mbuf\u001b[0m\u001b[0;34m,\u001b[0m \u001b[0mnbytes\u001b[0m\u001b[0;34m)\u001b[0m\u001b[0;34m\u001b[0m\u001b[0m\n\u001b[1;32m   1623\u001b[0m         \u001b[0;32melse\u001b[0m\u001b[0;34m:\u001b[0m\u001b[0;34m\u001b[0m\u001b[0m\n\u001b[0;32m-> 1624\u001b[0;31m             \u001b[0mresult\u001b[0m \u001b[0;34m=\u001b[0m \u001b[0m_lib\u001b[0m\u001b[0;34m.\u001b[0m\u001b[0mSSL_read\u001b[0m\u001b[0;34m(\u001b[0m\u001b[0mself\u001b[0m\u001b[0;34m.\u001b[0m\u001b[0m_ssl\u001b[0m\u001b[0;34m,\u001b[0m \u001b[0mbuf\u001b[0m\u001b[0;34m,\u001b[0m \u001b[0mnbytes\u001b[0m\u001b[0;34m)\u001b[0m\u001b[0;34m\u001b[0m\u001b[0m\n\u001b[0m\u001b[1;32m   1625\u001b[0m         \u001b[0mself\u001b[0m\u001b[0;34m.\u001b[0m\u001b[0m_raise_ssl_error\u001b[0m\u001b[0;34m(\u001b[0m\u001b[0mself\u001b[0m\u001b[0;34m.\u001b[0m\u001b[0m_ssl\u001b[0m\u001b[0;34m,\u001b[0m \u001b[0mresult\u001b[0m\u001b[0;34m)\u001b[0m\u001b[0;34m\u001b[0m\u001b[0m\n\u001b[1;32m   1626\u001b[0m \u001b[0;34m\u001b[0m\u001b[0m\n",
      "\u001b[0;31mKeyboardInterrupt\u001b[0m: "
     ]
    }
   ],
   "source": [
    "count = 0\n",
    "#проход по резюмешкам\n",
    "for i in range(1021,len(list_of_urls)+1):\n",
    "\n",
    "    url = 'https://www.superjob.ru' + list_of_urls[i]\n",
    "    url = requests.get(url).content\n",
    "    \n",
    "    to_append = {'new_pos':get_new_pos(url), 'salary':get_salary(url), \n",
    "                 'pos_1':get_pos_1(url), 'len_pos_1':get_len_pos_1(url), 'pos_2':get_pos_2(url), \n",
    "                 'len_pos_2':get_len_pos_2(url), 'pos_3':get_pos_3(url), 'len_pos_3':get_len_pos_3(url),\n",
    "                 'pos_4':get_pos_4(url),'len_pos_4':get_len_pos_4(url), 'pos_5':get_pos_5(url), \n",
    "                 'len_pos_5':get_len_pos_5(url)}\n",
    "                # 'refresh': get_refresh(url), , 'pos_6':get_pos_6(url), 'len_pos_6':get_len_pos_6(url)\n",
    "    superjob = superjob.append(to_append, ignore_index=True)\n",
    "    count +=1 \n",
    "    print('I`m not dead, I`m working! The link is {}'.format(i+1))\n",
    "    \n",
    "    \n",
    "superjob.to_csv('/Users/aleksandrkim/Desktop/superjob.csv')"
   ]
  }
 ],
 "metadata": {
  "anaconda-cloud": {},
  "kernelspec": {
   "display_name": "Python 3",
   "language": "python",
   "name": "python3"
  },
  "language_info": {
   "codemirror_mode": {
    "name": "ipython",
    "version": 3
   },
   "file_extension": ".py",
   "mimetype": "text/x-python",
   "name": "python",
   "nbconvert_exporter": "python",
   "pygments_lexer": "ipython3",
   "version": "3.5.4"
  }
 },
 "nbformat": 4,
 "nbformat_minor": 1
}
